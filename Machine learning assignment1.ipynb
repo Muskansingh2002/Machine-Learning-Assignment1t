{
 "cells": [
  {
   "cell_type": "markdown",
   "id": "d7e46a89-c9e6-4f97-9cc9-2f87826d0860",
   "metadata": {},
   "source": [
    "Q1:Explain the following with an example:\n",
    "\n",
    "1) Artificial intelligence\n",
    "2) Machine Learning\n",
    "3) Deep Learning"
   ]
  },
  {
   "cell_type": "markdown",
   "id": "d0b77a43-251b-4584-9716-ea516ea35a4e",
   "metadata": {},
   "source": [
    "Ans:\n",
    "\n",
    "Artificial Intelligence (AI):\n",
    "\n",
    "Definition: AI is a broad field of computer science focused on creating systems capable of performing tasks that would typically require human intelligence. This includes reasoning, learning, problem-solving, understanding natural language, and perception.\n",
    "\n",
    "Example: Self Driving Cars, Alexa.\n",
    "\n",
    "Machine Learning (ML):\n",
    "\n",
    "Definition: ML is a subset of AI that involves the use of algorithms and statistical models to enable computers to learn from and make predictions or decisions based on data. Instead of being explicitly programmed to perform a task, the system learns from patterns and inferences from the data.\n",
    "\n",
    "Example:Spam Email Filter.\n",
    "\n",
    "Deep Learning (DL):\n",
    "\n",
    "Definition: DL is a specialized subset of ML that uses neural networks with many layers (deep neural networks) to model and understand complex patterns in data.\n",
    "\n",
    "Example:Image Recognition System."
   ]
  },
  {
   "cell_type": "code",
   "execution_count": null,
   "id": "3a81a371-ea51-400b-8c7f-0b474a12f6d3",
   "metadata": {},
   "outputs": [],
   "source": []
  },
  {
   "cell_type": "markdown",
   "id": "ddd8e4ac-255a-4ea5-b9f9-a4c73ceaed36",
   "metadata": {},
   "source": [
    "Q2- What is supervised learning? List some examples of supervised learning."
   ]
  },
  {
   "cell_type": "markdown",
   "id": "abbc6608-f1b9-4fbe-bf79-d2607e7e8d9e",
   "metadata": {},
   "source": [
    "Ans:\n",
    "    \n",
    "Supervised learning is a type of machine learning where an algorithm is trained on labeled data. In this context, \"labeled\" means that each training example is paired with an output label. The goal is for the algorithm to learn a mapping from inputs to outputs, which can then be used to predict the labels for new, unseen data. \n",
    "\n",
    "Examples of Supervised Learning\n",
    "\n",
    "Classification:\n",
    "\n",
    "Email Spam Detection: The algorithm is trained on a dataset of emails labeled as \"spam\" or \"not spam.\" It learns to classify new emails based on the patterns it has identified in the training data.\n",
    "\n",
    "Image Recognition: A model is trained on a dataset of labeled images (e.g., images of cats and dogs). The model learns to classify new images as either a cat or a dog.\n",
    "\n",
    "Regression:\n",
    "\n",
    "House Price Prediction: The algorithm is trained on a dataset containing features of houses (size, location, number of rooms) and their corresponding prices. It learns to predict the price of a house based on its features.\n",
    "\n",
    "Stock Price Prediction: The model is trained on historical stock prices and various financial indicators to predict future stock prices."
   ]
  },
  {
   "cell_type": "code",
   "execution_count": null,
   "id": "7cffa9a2-747b-44d8-8719-0c9593631d0e",
   "metadata": {},
   "outputs": [],
   "source": []
  },
  {
   "cell_type": "markdown",
   "id": "de716c0e-8599-40f1-b45c-fe931bb7468e",
   "metadata": {},
   "source": [
    "Q3: What is unsupervised learning? List some examples of unsupervised learning.\n"
   ]
  },
  {
   "cell_type": "markdown",
   "id": "728b55f7-9006-49cd-8c7b-081ca4068003",
   "metadata": {},
   "source": [
    "Ans:\n",
    "    \n",
    "Unsupervised learning is a type of machine learning where the algorithm is trained on data without labeled responses. The goal is to infer the natural structure present within a set of data points. \n",
    "\n",
    "Examples of Unsupervised Learning\n",
    "\n",
    "Clustering:\n",
    "\n",
    "Customer Segmentation: A retail company can use clustering algorithms to segment customers into different groups based on purchasing behavior, demographics, etc. This helps in targeted marketing strategies.\n",
    "\n",
    "Image Segmentation: Clustering can be used to partition an image into segments for easier analysis, such as segmenting different objects within an image.\n",
    "\n",
    "Dimensionality Reduction:\n",
    "\n",
    "Principal Component Analysis (PCA): PCA reduces the number of dimensions (features) in a dataset while preserving as much variance as possible. This is useful for visualizing high-dimensional data or speeding up other algorithms.\n",
    "\n",
    "t-Distributed Stochastic Neighbor Embedding (t-SNE): t-SNE is often used for visualizing high-dimensional data by reducing it to two or three dimensions."
   ]
  },
  {
   "cell_type": "code",
   "execution_count": null,
   "id": "0117cf88-1c0e-40e3-b353-b87469f306c7",
   "metadata": {},
   "outputs": [],
   "source": []
  },
  {
   "cell_type": "markdown",
   "id": "5949467a-fcff-404c-b81b-f8ee1edef378",
   "metadata": {},
   "source": [
    "Q4:What is the difference between AI,ML,DL,and DS."
   ]
  },
  {
   "cell_type": "markdown",
   "id": "683c7a42-371d-4a25-a937-6f82e68648af",
   "metadata": {},
   "source": [
    "Ans:\n",
    "    \n",
    "Scope:\n",
    "\n",
    "AI: The broadest field focused on creating intelligent systems.\n",
    "\n",
    "ML: A subset of AI focused on systems that learn from data.\n",
    "\n",
    "DL: A specialized subset of ML focused on deep neural networks.\n",
    "\n",
    "DS: An interdisciplinary field focused on extracting insights from data, using methods from ML and DL.\n",
    "\n",
    "Techniques:\n",
    "\n",
    "AI: Includes rule-based systems, logic, planning, NLP, robotics, etc.\n",
    "\n",
    "ML: Includes regression, classification, clustering, etc.\n",
    "\n",
    "DL: Focuses on neural network architectures.\n",
    "\n",
    "DS: Includes data cleaning, statistical analysis, ML, data visualization, etc.\n",
    "\n",
    "Applications:\n",
    "\n",
    "AI: Autonomous vehicles, personal assistants, robotics.\n",
    "\n",
    "ML: Recommendation systems, fraud detection, predictive maintenance.\n",
    "\n",
    "DL: Image and speech recognition, advanced AI in gaming.\n",
    "\n",
    "DS: Business analytics, healthcare analytics, market research."
   ]
  },
  {
   "cell_type": "code",
   "execution_count": null,
   "id": "eac8b761-6637-4534-a2a6-cae3d044e77c",
   "metadata": {},
   "outputs": [],
   "source": []
  },
  {
   "cell_type": "markdown",
   "id": "873579a4-edb0-4051-ac8b-992b072d9940",
   "metadata": {},
   "source": [
    "Q5- What are the main differences between supervised, unsupervised, and semi-supervised learning?"
   ]
  },
  {
   "cell_type": "markdown",
   "id": "5bbd170e-cc4a-43e8-ab29-6731255c4806",
   "metadata": {},
   "source": [
    "Ans:\n",
    "    \n",
    "Data Requirements:\n",
    "\n",
    "Supervised Learning: Requires labeled data for training.\n",
    "\n",
    "Unsupervised Learning: Uses only unlabeled data.\n",
    "\n",
    "Semi-Supervised Learning: Uses a combination of a small amount of labeled data and a large amount of unlabeled data.\n",
    "\n",
    "Objective:\n",
    "\n",
    "Supervised Learning: Learn to predict labels based on input features.\n",
    "\n",
    "Unsupervised Learning: Discover patterns or groupings in the data.\n",
    "\n",
    "Semi-Supervised Learning: Improve learning efficiency and accuracy by leveraging both labeled and unlabeled data.\n",
    "\n",
    "Applications:\n",
    "\n",
    "Supervised Learning: Suitable for tasks where labeled data is abundant.\n",
    "\n",
    "Unsupervised Learning: Ideal for exploratory data analysis and understanding the underlying structure of data.\n",
    "\n",
    "Semi-Supervised Learning: Useful in scenarios where labeled data is limited but there is plenty of unlabeled data.\n",
    "\n",
    "Evaluation:\n",
    "\n",
    "Supervised Learning: Clear metrics for evaluation (e.g., accuracy, precision, recall).\n",
    "\n",
    "Unsupervised Learning: Often more challenging to evaluate and may require domain knowledge.\n",
    "\n",
    "Semi-Supervised Learning: Combines metrics from both supervised and unsupervised learning for evaluation."
   ]
  },
  {
   "cell_type": "code",
   "execution_count": null,
   "id": "e32721d5-0d93-44a0-b04a-9ee1703df022",
   "metadata": {},
   "outputs": [],
   "source": []
  },
  {
   "cell_type": "markdown",
   "id": "852aa412-85e9-4417-86de-075045aee1ce",
   "metadata": {},
   "source": [
    "Q6- What is train, test and validation split? Explain the importance of each term."
   ]
  },
  {
   "cell_type": "markdown",
   "id": "83c85d7c-9bfe-42c1-bde0-7673263d32c8",
   "metadata": {},
   "source": [
    "Ans:\n",
    "    \n",
    "1. Training Set\n",
    "\n",
    "The training set is the portion of the dataset used to train the model. It’s the data on which the model learns the patterns, relationships, and structures.\n",
    "\n",
    "Importance:\n",
    "\n",
    "Learning Process: The model uses this data to adjust its parameters and improve its performance.\n",
    "\n",
    "Model Development: Ensures the model has seen enough examples to generalize well to new data.\n",
    "\n",
    "2. Validation Set\n",
    "\n",
    "The validation set is a subset of the dataset used to tune hyperparameters and make decisions about the model architecture. It provides an unbiased evaluation of a model fit on the training dataset while tuning model parameters.\n",
    "\n",
    "Importance:\n",
    "\n",
    "Hyperparameter Tuning: Helps in adjusting hyperparameters like learning rate, number of layers in a neural network, etc.\n",
    "\n",
    "Model Selection: Aids in comparing different models and choosing the best one.\n",
    "\n",
    "3. Test Set\n",
    "\n",
    "The test set is the portion of the dataset used to evaluate the final model's performance. It should be used only once the model is trained and tuned.\n",
    "\n",
    "Importance:\n",
    "\n",
    "Final Evaluation: Provides an unbiased evaluation of the final model’s performance.\n",
    "\n",
    "Generalization Check: Ensures the model performs well on unseen data, indicating it can generalize to real-world data."
   ]
  },
  {
   "cell_type": "code",
   "execution_count": null,
   "id": "d0abf2c1-e86e-4a04-8d55-0893c399377f",
   "metadata": {},
   "outputs": [],
   "source": []
  },
  {
   "cell_type": "markdown",
   "id": "378db51c-6586-4341-9714-efcdf5168aeb",
   "metadata": {},
   "source": [
    "Q7- How can unsupervised learning be used in anomaly detection?"
   ]
  },
  {
   "cell_type": "markdown",
   "id": "33b1da4b-6e9e-4e25-aba5-a150db897533",
   "metadata": {},
   "source": [
    "Ans:\n",
    "    \n",
    "Unsupervised learning is powerful for anomaly detection because it does not require labeled training data. By leveraging techniques like clustering, dimensionality reduction, autoencoders, and Isolation Forest, one can effectively identify unusual patterns and outliers in various types of data. "
   ]
  },
  {
   "cell_type": "code",
   "execution_count": null,
   "id": "574d7e23-be13-48af-97d2-d98cbf305ee5",
   "metadata": {},
   "outputs": [],
   "source": []
  },
  {
   "cell_type": "markdown",
   "id": "aba017db-f63e-4e99-b52d-dbefb2e206ac",
   "metadata": {},
   "source": [
    "Q8: List down some commonly used supervised learning algorithms and unsupervised learning algorithms."
   ]
  },
  {
   "cell_type": "markdown",
   "id": "add5267e-a834-427b-b661-8f6d5c6864f1",
   "metadata": {},
   "source": [
    "Ans:\n",
    "    \n",
    "Commonly Used Supervised Learning Algorithms:\n",
    "    \n",
    "Linear Regression:\n",
    "\n",
    "Use Case: Predicting continuous values, such as house prices.\n",
    "\n",
    "Description: Models the relationship between a dependent variable and one or more independent variables using a linear equation.\n",
    "\n",
    "Logistic Regression:\n",
    "\n",
    "Use Case: Binary classification tasks, such as spam detection.\n",
    "\n",
    "Description: Estimates the probability of a binary outcome using a logistic function.\n",
    "\n",
    "Decision Trees:\n",
    "\n",
    "Use Case: Classification and regression tasks.\n",
    "\n",
    "Description: Splits the data into subsets based on feature values, forming a tree structure to make predictions.\n",
    "\n",
    "Commonly Used Unsupervised Learning Algorithms:\n",
    "    \n",
    "K-Means Clustering:\n",
    "\n",
    "Use Case: Customer segmentation, image compression.\n",
    "\n",
    "Description: Partitions data into k clusters by minimizing the variance within each cluster.\n",
    "\n",
    "Hierarchical Clustering:\n",
    "\n",
    "Use Case: Hierarchical data organization, phylogenetic trees.\n",
    "\n",
    "Description: Builds a tree-like structure of clusters by progressively merging or splitting them based on distance measures.\n",
    "\n",
    "DBSCAN (Density-Based Spatial Clustering of Applications with Noise):\n",
    "\n",
    "Use Case: Clustering spatial data, identifying outliers.\n",
    "\n",
    "Description: Groups together points that are closely packed and marks points in low-density regions as outliers."
   ]
  }
 ],
 "metadata": {
  "kernelspec": {
   "display_name": "Python 3 (ipykernel)",
   "language": "python",
   "name": "python3"
  },
  "language_info": {
   "codemirror_mode": {
    "name": "ipython",
    "version": 3
   },
   "file_extension": ".py",
   "mimetype": "text/x-python",
   "name": "python",
   "nbconvert_exporter": "python",
   "pygments_lexer": "ipython3",
   "version": "3.10.8"
  }
 },
 "nbformat": 4,
 "nbformat_minor": 5
}
